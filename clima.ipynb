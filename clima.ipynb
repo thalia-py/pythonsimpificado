{
  "nbformat": 4,
  "nbformat_minor": 0,
  "metadata": {
    "colab": {
      "provenance": [],
      "authorship_tag": "ABX9TyN0Qisl7YlHvR83v3TSaZ7g",
      "include_colab_link": true
    },
    "kernelspec": {
      "name": "python3",
      "display_name": "Python 3"
    },
    "language_info": {
      "name": "python"
    }
  },
  "cells": [
    {
      "cell_type": "markdown",
      "metadata": {
        "id": "view-in-github",
        "colab_type": "text"
      },
      "source": [
        "<a href=\"https://colab.research.google.com/github/thalia-py/pythonsimpificado/blob/main/clima.ipynb\" target=\"_parent\"><img src=\"https://colab.research.google.com/assets/colab-badge.svg\" alt=\"Open In Colab\"/></a>"
      ]
    },
    {
      "cell_type": "markdown",
      "source": [
        "São muitas as maneiras de obter atualizações sobre o clima utilizando Python. Aqui está um exemplo de como você pode fazer isso com o módulo **pyowm**:\n"
      ],
      "metadata": {
        "id": "H8NHJoL-rS8P"
      }
    },
    {
      "cell_type": "code",
      "execution_count": null,
      "metadata": {
        "id": "pZlFCwQTrRif"
      },
      "outputs": [],
      "source": [
        "!pip install pyowm"
      ]
    },
    {
      "cell_type": "code",
      "source": [
        "import pyowm"
      ],
      "metadata": {
        "id": "DkcJi0nutOws"
      },
      "execution_count": null,
      "outputs": []
    },
    {
      "cell_type": "code",
      "source": [
        "#Inicializa o OWM (OpenWeathrMap) com sua chave API\n",
        "owm=pyowm.OWM('SUA_CHAVE_API_AQUI')"
      ],
      "metadata": {
        "id": "pnfLANxIrWw5"
      },
      "execution_count": null,
      "outputs": []
    },
    {
      "cell_type": "code",
      "source": [
        "#Define a cidade que você quer obter o clima\n",
        "city= \"Salvador, BR\""
      ],
      "metadata": {
        "id": "03Hu92xUsBik"
      },
      "execution_count": null,
      "outputs": []
    },
    {
      "cell_type": "code",
      "source": [
        "#Obtem as informações sobre o clima\n",
        "weather =  owm.weather_at_place(city).get_weather()"
      ],
      "metadata": {
        "id": "y0PVrOHPsNkr"
      },
      "execution_count": null,
      "outputs": []
    },
    {
      "cell_type": "code",
      "source": [
        "#Imprime a temperatura atul em graus Celsius\n",
        "temperature = weather.get_temperature('Celsius')['temp']\n",
        "print(f\"A temperatura atual em {city} é de {temperature:.1f}°C.\")"
      ],
      "metadata": {
        "id": "_xsY8uAYsb4y"
      },
      "execution_count": null,
      "outputs": []
    }
  ]
}