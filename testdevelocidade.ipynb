{
  "nbformat": 4,
  "nbformat_minor": 0,
  "metadata": {
    "colab": {
      "provenance": [],
      "authorship_tag": "ABX9TyPk75TlcdFjpY2h03q3gvFi",
      "include_colab_link": true
    },
    "kernelspec": {
      "name": "python3",
      "display_name": "Python 3"
    },
    "language_info": {
      "name": "python"
    }
  },
  "cells": [
    {
      "cell_type": "markdown",
      "metadata": {
        "id": "view-in-github",
        "colab_type": "text"
      },
      "source": [
        "<a href=\"https://colab.research.google.com/github/thalia-py/pythonsimpificado/blob/main/testdevelocidade.ipynb\" target=\"_parent\"><img src=\"https://colab.research.google.com/assets/colab-badge.svg\" alt=\"Open In Colab\"/></a>"
      ]
    },
    {
      "cell_type": "markdown",
      "source": [
        "Existem muitas maneiras de verificar a velocidade da sua internet utilizando Python. Aqui está um exemplo de como você pode medir a velocidade de download e upload da sua conexão utilizando o **speedtest-cli**:\n",
        "\n"
      ],
      "metadata": {
        "id": "9DzgVcyc1hb-"
      }
    },
    {
      "cell_type": "code",
      "source": [
        "#instalando o modulo speedtest-cli\n",
        "!pip install speedtest-cli"
      ],
      "metadata": {
        "id": "qdnY25I7Eca-"
      },
      "execution_count": null,
      "outputs": []
    },
    {
      "cell_type": "code",
      "execution_count": 28,
      "metadata": {
        "id": "fbUHA9iN0wk9"
      },
      "outputs": [],
      "source": [
        "import speedtest as sp"
      ]
    },
    {
      "cell_type": "code",
      "source": [
        "test = sp.Speedtest()\n"
      ],
      "metadata": {
        "id": "d2LN2vNM2PNY"
      },
      "execution_count": 29,
      "outputs": []
    },
    {
      "cell_type": "code",
      "source": [
        "down=test.download()\n",
        "rsDown=round(down)\n",
        "fDown = int(rsDown/1e+6)\n"
      ],
      "metadata": {
        "id": "aGeqTuu33GHN"
      },
      "execution_count": 30,
      "outputs": []
    },
    {
      "cell_type": "code",
      "source": [
        "upload=test.upload()\n",
        "rsUp=round(upload)\n",
        "fup=int(rsUp/1e+6)"
      ],
      "metadata": {
        "id": "WonFIQc8D-AR"
      },
      "execution_count": 31,
      "outputs": []
    },
    {
      "cell_type": "code",
      "source": [
        "print(f\"Sua valocidade de Download é de: {fDown} mb/\")\n",
        "print(f\"Sua valocidade de Upload é de: {fup} mb/\")"
      ],
      "metadata": {
        "colab": {
          "base_uri": "https://localhost:8080/"
        },
        "id": "Ww4luSvYLRqB",
        "outputId": "8548db31-5926-46c4-b937-4de2638f49e1"
      },
      "execution_count": 34,
      "outputs": [
        {
          "output_type": "stream",
          "name": "stdout",
          "text": [
            "Sua valocidade de Download é de: 2066 mb/\n",
            "Sua valocidade de Upload é de: 598 mb/\n"
          ]
        }
      ]
    },
    {
      "cell_type": "code",
      "source": [],
      "metadata": {
        "id": "jA0MPEu-LzKz"
      },
      "execution_count": null,
      "outputs": []
    }
  ]
}